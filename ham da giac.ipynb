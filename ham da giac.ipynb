{
 "cells": [
  {
   "cell_type": "code",
   "execution_count": 1,
   "id": "dec8065c",
   "metadata": {},
   "outputs": [],
   "source": [
    "import turtle as t \n",
    "pen = t.Turtle()\n",
    "def draw(a,b=100):\n",
    "    angle = (a-2) *180 / a\n",
    "    for i in range(a):\n",
    "        t.fd(b)\n",
    "        t.lt(180 - angle)\n",
    "    t.done()\n",
    "    \n",
    "draw(6)\n",
    "        "
   ]
  }
 ],
 "metadata": {
  "kernelspec": {
   "display_name": "Python 3 (ipykernel)",
   "language": "python",
   "name": "python3"
  },
  "language_info": {
   "codemirror_mode": {
    "name": "ipython",
    "version": 3
   },
   "file_extension": ".py",
   "mimetype": "text/x-python",
   "name": "python",
   "nbconvert_exporter": "python",
   "pygments_lexer": "ipython3",
   "version": "3.9.5"
  }
 },
 "nbformat": 4,
 "nbformat_minor": 5
}
